{
 "cells": [
  {
   "cell_type": "markdown",
   "id": "372919bd",
   "metadata": {},
   "source": [
    "# Training the SWEFormer Model"
   ]
  },
  {
   "cell_type": "code",
   "execution_count": null,
   "id": "e17424c8",
   "metadata": {},
   "outputs": [],
   "source": [
    "# Standard library\n",
    "import os\n",
    "import re\n",
    "import time\n",
    "import math\n",
    "import pickle\n",
    "import importlib\n",
    "from typing import Any, Optional, Tuple\n",
    "import numpy as np\n",
    "import pandas as pd\n",
    "import torch\n",
    "import torch.nn as nn\n",
    "from torch import Tensor\n",
    "import torch.nn.functional as F\n",
    "from torch.nn import MultiheadAttention, Linear, Dropout, BatchNorm1d, TransformerEncoderLayer\n",
    "import matplotlib.pyplot as plt\n",
    "from matplotlib.colors import ListedColormap\n",
    "from scipy.io import loadmat\n",
    "from scipy.stats import pearsonr\n",
    "from sklearn.model_selection import train_test_split\n",
    "\n",
    "# Local application imports\n",
    "import model_builder\n",
    "import optimizer_code\n",
    "import dataloader\n",
    "import train\n",
    "import utils\n",
    "importlib.reload(utils)\n",
    "importlib.reload(train)\n",
    "importlib.reload(dataloader)\n",
    "importlib.reload(model_builder)"
   ]
  },
  {
   "cell_type": "code",
   "execution_count": null,
   "id": "4620fc11",
   "metadata": {},
   "outputs": [],
   "source": [
    "!pip install gdown"
   ]
  },
  {
   "cell_type": "code",
   "execution_count": null,
   "id": "383c1eb0",
   "metadata": {},
   "outputs": [],
   "source": [
    "import gdown\n",
    "\n",
    "# File ID from the Google Drive link\n",
    "file_id = '1XgHYFKpmK0y7xfXNNdOc87h52_X2qaRS'\n",
    "\n",
    "# Create the download URL\n",
    "url = f'https://drive.google.com/uc?export=download&id={file_id}'\n",
    "\n",
    "# Download the file and save it as 'Training_data_ERA5_datasets.pkl'\n",
    "gdown.download(url, 'Training_data_ERA5_datasets.pkl', quiet=False)"
   ]
  },
  {
   "cell_type": "code",
   "execution_count": null,
   "id": "57ddd184",
   "metadata": {},
   "outputs": [],
   "source": [
    "with open('Datasets/Training_data_ERA5_datasets.pkl', 'rb') as f:\n",
    "    datasets = pickle.load(f)\n",
    "\n",
    "# Access the datasets and variables like this:\n",
    "X_tbh_tbv_emiss = datasets[\"X_tbh_tbv_emiss\"]\n",
    "X_tbh_tbv = datasets[\"X_tbh_tbv\"]\n",
    "X_air_temp = datasets[\"X_air_temp\"]\n",
    "X_ground_temp = datasets[\"X_ground_temp\"]\n",
    "land_cover = datasets[\"land_cover\"]\n",
    "water_frac = datasets[\"water_frac\"]\n",
    "peak_swe = datasets[\"peak_swe\"]\n",
    "swe = datasets[\"swe\"]\n",
    "elev = datasets[\"elev\"]"
   ]
  },
  {
   "cell_type": "markdown",
   "id": "660ba04e",
   "metadata": {},
   "source": [
    "## Creating Dataloader For Training"
   ]
  },
  {
   "cell_type": "code",
   "execution_count": null,
   "id": "188cc4e3",
   "metadata": {},
   "outputs": [],
   "source": [
    "train_loader, test_loader = dataloader.prepare_training_dataloader(X_tbh_tbv_emiss, X_air_temp, X_ground_temp, land_cover, \n",
    "                                water_frac, peak_swe, train_ratio=0.8, batch_size=64, elev=elev)\n",
    "\n",
    "# Get the first batch using iter\n",
    "data, cat, water, elev, targets = next(iter(test_loader))\n",
    "\n",
    "print(\"Data shape:\", data.shape)         # Shape of the input data\n",
    "print(\"Categorical input shape:\", cat.shape)   # Shape of the categorical input\n",
    "print(\"elev input shape:\", elev.shape)   # Shape of the categorical input\n",
    "print(\"Targets shape:\", targets.shape)   # Shape of the targets\n",
    "print(\"Water_frac shape:\", water.shape)   # Shape of the targets\n",
    "\n",
    "print(len(test_loader))"
   ]
  },
  {
   "cell_type": "markdown",
   "id": "b60059d7",
   "metadata": {},
   "source": [
    "## Model Building: SWEFormer"
   ]
  },
  {
   "cell_type": "code",
   "execution_count": null,
   "id": "416dcf1f",
   "metadata": {},
   "outputs": [],
   "source": [
    "device = torch.device(\"cuda\" if torch.cuda.is_available() else \"cpu\")\n",
    "model = model_builder.SWEFormer(feat_dim=4,max_len = 218, d_model = 16, n_heads=4, num_layers=3, \n",
    "                                                            num_categories=13, cat_embed_dim=8, water_frac_dim = 1, \n",
    "                                                            elev_dim = 1, num_classes=1, output_concat_switch = False).to(device)\n",
    "criterion, optimizer, scheduler = optimizer_code.setup_training(model, loss_type='mse', lr=0.00005, weight_decay=0.01, \n",
    "                                                                betas=(0.9, 0.999), total_steps=100, gamma=0.95)"
   ]
  },
  {
   "cell_type": "markdown",
   "id": "7200995f",
   "metadata": {},
   "source": [
    "<div style=\"background-color: #fff3cd; border: 1px solid #ffeeba; padding: 10px; color: #856404; font-weight: bold;\">\n",
    "⚠️ <strong>WARNING:</strong> Training the model may take several hours on a GPU. Therefore, please utilize the pre-trained model and skip running the following cell in order to directly view and analyze the content.\n",
    "</div>\n"
   ]
  },
  {
   "cell_type": "code",
   "execution_count": null,
   "id": "02f29fdf",
   "metadata": {},
   "outputs": [],
   "source": [
    "train.train_model_elev(model=model,\n",
    "            train_dataloader=train_loader,\n",
    "            val_dataloader=test_loader,\n",
    "            optimizer=optimizer,\n",
    "            scheduler=scheduler,\n",
    "            criterion=criterion,\n",
    "            epochs=100,\n",
    "            device=device,\n",
    "            early_stopping_patience=10,  # Stop if no improvement in 10 epochs\n",
    "            min_delta=0.0001,  # Minimum improvement needed to reset early stopping\n",
    "            model_save_path='Trained Model/ERA5_trained_model.pth')  # Path to save the best model"
   ]
  }
 ],
 "metadata": {
  "kernelspec": {
   "display_name": "base",
   "language": "python",
   "name": "python3"
  },
  "language_info": {
   "name": "python",
   "version": "3.11.5"
  }
 },
 "nbformat": 4,
 "nbformat_minor": 5
}
